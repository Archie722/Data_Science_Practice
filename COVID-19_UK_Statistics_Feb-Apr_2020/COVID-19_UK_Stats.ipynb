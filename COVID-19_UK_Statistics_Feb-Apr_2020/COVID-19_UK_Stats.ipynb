{
 "cells": [
  {
   "cell_type": "markdown",
   "metadata": {},
   "source": [
    "# This Data is from the World Health Organisation daily situation reports from around the world."
   ]
  },
  {
   "cell_type": "code",
   "execution_count": 139,
   "metadata": {},
   "outputs": [],
   "source": [
    "import pandas as pd\n",
    "import matplotlib.pyplot as plt\n",
    "from matplotlib import colors as mcolors\n",
    "import numpy as np"
   ]
  },
  {
   "cell_type": "markdown",
   "metadata": {},
   "source": [
    "# Question: Investigate the relationship between total COVID-19 cases, new cases and deaths in the UK"
   ]
  },
  {
   "cell_type": "code",
   "execution_count": 76,
   "metadata": {
    "scrolled": true
   },
   "outputs": [
    {
     "data": {
      "text/html": [
       "<div>\n",
       "<style scoped>\n",
       "    .dataframe tbody tr th:only-of-type {\n",
       "        vertical-align: middle;\n",
       "    }\n",
       "\n",
       "    .dataframe tbody tr th {\n",
       "        vertical-align: top;\n",
       "    }\n",
       "\n",
       "    .dataframe thead th {\n",
       "        text-align: right;\n",
       "    }\n",
       "</style>\n",
       "<table border=\"1\" class=\"dataframe\">\n",
       "  <thead>\n",
       "    <tr style=\"text-align: right;\">\n",
       "      <th></th>\n",
       "      <th>reported_date</th>\n",
       "      <th>reporting_country_territory</th>\n",
       "      <th>province_city</th>\n",
       "      <th>confirmed_cases</th>\n",
       "      <th>new_confirmed_cases</th>\n",
       "      <th>total_deaths</th>\n",
       "      <th>new_total_deaths</th>\n",
       "      <th>transmission_classification</th>\n",
       "      <th>total_cases_with_travel_history_to_china</th>\n",
       "      <th>new_cases_with_travel_history_to_china</th>\n",
       "      <th>...</th>\n",
       "      <th>daily_clinically_diagnosed_cases</th>\n",
       "      <th>daily_total_cases</th>\n",
       "      <th>cumulative_total_cases</th>\n",
       "      <th>cumulative_lab_confirmed_cases</th>\n",
       "      <th>cumulative_clinically_diagnosed_cases</th>\n",
       "      <th>cumulative_deaths</th>\n",
       "      <th>days_since_last_reported</th>\n",
       "      <th>who_region</th>\n",
       "      <th>population</th>\n",
       "      <th>report_url</th>\n",
       "    </tr>\n",
       "  </thead>\n",
       "  <tbody>\n",
       "    <tr>\n",
       "      <th>0</th>\n",
       "      <td>2020-04-05</td>\n",
       "      <td>China</td>\n",
       "      <td>NaN</td>\n",
       "      <td>82875</td>\n",
       "      <td>73.0</td>\n",
       "      <td>3335.0</td>\n",
       "      <td>4.0</td>\n",
       "      <td>Local transmission</td>\n",
       "      <td>NaN</td>\n",
       "      <td>NaN</td>\n",
       "      <td>...</td>\n",
       "      <td>NaN</td>\n",
       "      <td>NaN</td>\n",
       "      <td>NaN</td>\n",
       "      <td>NaN</td>\n",
       "      <td>NaN</td>\n",
       "      <td>NaN</td>\n",
       "      <td>0.0</td>\n",
       "      <td>NaN</td>\n",
       "      <td>NaN</td>\n",
       "      <td>https://www.who.int/docs/default-source/corona...</td>\n",
       "    </tr>\n",
       "    <tr>\n",
       "      <th>1</th>\n",
       "      <td>2020-04-05</td>\n",
       "      <td>Republic of Korea</td>\n",
       "      <td>NaN</td>\n",
       "      <td>10156</td>\n",
       "      <td>94.0</td>\n",
       "      <td>177.0</td>\n",
       "      <td>3.0</td>\n",
       "      <td>Local transmission</td>\n",
       "      <td>NaN</td>\n",
       "      <td>NaN</td>\n",
       "      <td>...</td>\n",
       "      <td>NaN</td>\n",
       "      <td>NaN</td>\n",
       "      <td>NaN</td>\n",
       "      <td>NaN</td>\n",
       "      <td>NaN</td>\n",
       "      <td>NaN</td>\n",
       "      <td>0.0</td>\n",
       "      <td>NaN</td>\n",
       "      <td>NaN</td>\n",
       "      <td>https://www.who.int/docs/default-source/corona...</td>\n",
       "    </tr>\n",
       "    <tr>\n",
       "      <th>2</th>\n",
       "      <td>2020-04-05</td>\n",
       "      <td>Australia</td>\n",
       "      <td>NaN</td>\n",
       "      <td>5454</td>\n",
       "      <td>230.0</td>\n",
       "      <td>28.0</td>\n",
       "      <td>5.0</td>\n",
       "      <td>Local transmission</td>\n",
       "      <td>NaN</td>\n",
       "      <td>NaN</td>\n",
       "      <td>...</td>\n",
       "      <td>NaN</td>\n",
       "      <td>NaN</td>\n",
       "      <td>NaN</td>\n",
       "      <td>NaN</td>\n",
       "      <td>NaN</td>\n",
       "      <td>NaN</td>\n",
       "      <td>0.0</td>\n",
       "      <td>NaN</td>\n",
       "      <td>NaN</td>\n",
       "      <td>https://www.who.int/docs/default-source/corona...</td>\n",
       "    </tr>\n",
       "    <tr>\n",
       "      <th>3</th>\n",
       "      <td>2020-04-05</td>\n",
       "      <td>Malaysia</td>\n",
       "      <td>NaN</td>\n",
       "      <td>3333</td>\n",
       "      <td>217.0</td>\n",
       "      <td>53.0</td>\n",
       "      <td>3.0</td>\n",
       "      <td>Local transmission</td>\n",
       "      <td>NaN</td>\n",
       "      <td>NaN</td>\n",
       "      <td>...</td>\n",
       "      <td>NaN</td>\n",
       "      <td>NaN</td>\n",
       "      <td>NaN</td>\n",
       "      <td>NaN</td>\n",
       "      <td>NaN</td>\n",
       "      <td>NaN</td>\n",
       "      <td>0.0</td>\n",
       "      <td>NaN</td>\n",
       "      <td>NaN</td>\n",
       "      <td>https://www.who.int/docs/default-source/corona...</td>\n",
       "    </tr>\n",
       "    <tr>\n",
       "      <th>4</th>\n",
       "      <td>2020-04-05</td>\n",
       "      <td>Philippines</td>\n",
       "      <td>NaN</td>\n",
       "      <td>3018</td>\n",
       "      <td>385.0</td>\n",
       "      <td>136.0</td>\n",
       "      <td>29.0</td>\n",
       "      <td>Local transmission</td>\n",
       "      <td>NaN</td>\n",
       "      <td>NaN</td>\n",
       "      <td>...</td>\n",
       "      <td>NaN</td>\n",
       "      <td>NaN</td>\n",
       "      <td>NaN</td>\n",
       "      <td>NaN</td>\n",
       "      <td>NaN</td>\n",
       "      <td>NaN</td>\n",
       "      <td>0.0</td>\n",
       "      <td>NaN</td>\n",
       "      <td>NaN</td>\n",
       "      <td>https://www.who.int/docs/default-source/corona...</td>\n",
       "    </tr>\n",
       "  </tbody>\n",
       "</table>\n",
       "<p>5 rows × 33 columns</p>\n",
       "</div>"
      ],
      "text/plain": [
       "  reported_date reporting_country_territory province_city confirmed_cases  \\\n",
       "0    2020-04-05                       China           NaN           82875   \n",
       "1    2020-04-05           Republic of Korea           NaN           10156   \n",
       "2    2020-04-05                   Australia           NaN            5454   \n",
       "3    2020-04-05                    Malaysia           NaN            3333   \n",
       "4    2020-04-05                 Philippines           NaN            3018   \n",
       "\n",
       "   new_confirmed_cases  total_deaths  new_total_deaths  \\\n",
       "0                 73.0        3335.0               4.0   \n",
       "1                 94.0         177.0               3.0   \n",
       "2                230.0          28.0               5.0   \n",
       "3                217.0          53.0               3.0   \n",
       "4                385.0         136.0              29.0   \n",
       "\n",
       "  transmission_classification  total_cases_with_travel_history_to_china  \\\n",
       "0          Local transmission                                       NaN   \n",
       "1          Local transmission                                       NaN   \n",
       "2          Local transmission                                       NaN   \n",
       "3          Local transmission                                       NaN   \n",
       "4          Local transmission                                       NaN   \n",
       "\n",
       "   new_cases_with_travel_history_to_china  ...  \\\n",
       "0                                     NaN  ...   \n",
       "1                                     NaN  ...   \n",
       "2                                     NaN  ...   \n",
       "3                                     NaN  ...   \n",
       "4                                     NaN  ...   \n",
       "\n",
       "  daily_clinically_diagnosed_cases  daily_total_cases  cumulative_total_cases  \\\n",
       "0                              NaN                NaN                     NaN   \n",
       "1                              NaN                NaN                     NaN   \n",
       "2                              NaN                NaN                     NaN   \n",
       "3                              NaN                NaN                     NaN   \n",
       "4                              NaN                NaN                     NaN   \n",
       "\n",
       "   cumulative_lab_confirmed_cases  cumulative_clinically_diagnosed_cases  \\\n",
       "0                             NaN                                    NaN   \n",
       "1                             NaN                                    NaN   \n",
       "2                             NaN                                    NaN   \n",
       "3                             NaN                                    NaN   \n",
       "4                             NaN                                    NaN   \n",
       "\n",
       "  cumulative_deaths  days_since_last_reported who_region  population  \\\n",
       "0               NaN                       0.0        NaN         NaN   \n",
       "1               NaN                       0.0        NaN         NaN   \n",
       "2               NaN                       0.0        NaN         NaN   \n",
       "3               NaN                       0.0        NaN         NaN   \n",
       "4               NaN                       0.0        NaN         NaN   \n",
       "\n",
       "                                          report_url  \n",
       "0  https://www.who.int/docs/default-source/corona...  \n",
       "1  https://www.who.int/docs/default-source/corona...  \n",
       "2  https://www.who.int/docs/default-source/corona...  \n",
       "3  https://www.who.int/docs/default-source/corona...  \n",
       "4  https://www.who.int/docs/default-source/corona...  \n",
       "\n",
       "[5 rows x 33 columns]"
      ]
     },
     "execution_count": 76,
     "metadata": {},
     "output_type": "execute_result"
    }
   ],
   "source": [
    "df_original = pd.read_csv('who-situation-reports-covid-19.csv')\n",
    "df_original.head()"
   ]
  },
  {
   "cell_type": "code",
   "execution_count": 77,
   "metadata": {
    "scrolled": false
   },
   "outputs": [
    {
     "name": "stdout",
     "output_type": "stream",
     "text": [
      "<class 'pandas.core.frame.DataFrame'>\n",
      "RangeIndex: 7758 entries, 0 to 7757\n",
      "Data columns (total 33 columns):\n",
      "reported_date                                                        7758 non-null object\n",
      "reporting_country_territory                                          7758 non-null object\n",
      "province_city                                                        1547 non-null object\n",
      "confirmed_cases                                                      7758 non-null object\n",
      "new_confirmed_cases                                                  7043 non-null float64\n",
      "total_deaths                                                         7123 non-null float64\n",
      "new_total_deaths                                                     6994 non-null float64\n",
      "transmission_classification                                          5310 non-null object\n",
      "total_cases_with_travel_history_to_china                             399 non-null float64\n",
      "new_cases_with_travel_history_to_china                               340 non-null float64\n",
      "total_cases_with_possible_or_confirmed_transmission_outside_china    399 non-null object\n",
      "new_cases_with_possible_or_confirmed_transmission_outside_china      338 non-null float64\n",
      "total_cases_with_site_of_transmission_under_investigation            120 non-null float64\n",
      "new_cases_with_site_of_transmission_under_investigation              53 non-null float64\n",
      "place_of_exposure_in_china_cases                                     287 non-null float64\n",
      "place_of_exposure_in_china_cases_new                                 287 non-null object\n",
      "place_of_exposure_outside_reporting_country_and_china_cases          286 non-null float64\n",
      "place_of_exposure_outside_reporting_country_and_china_cases_new      287 non-null object\n",
      "place_of_exposure_in_reporting_country_cases                         285 non-null float64\n",
      "place_of_exposure_in_reporting_country_cases_new                     287 non-null float64\n",
      "suspected_cases                                                      986 non-null float64\n",
      "daily_suspected_cases                                                102 non-null float64\n",
      "daily_lab_confirmed_cases                                            102 non-null float64\n",
      "daily_clinically_diagnosed_cases                                     102 non-null object\n",
      "daily_total_cases                                                    0 non-null float64\n",
      "cumulative_total_cases                                               0 non-null float64\n",
      "cumulative_lab_confirmed_cases                                       102 non-null object\n",
      "cumulative_clinically_diagnosed_cases                                102 non-null object\n",
      "cumulative_deaths                                                    0 non-null float64\n",
      "days_since_last_reported                                             5345 non-null float64\n",
      "who_region                                                           0 non-null float64\n",
      "population                                                           1122 non-null float64\n",
      "report_url                                                           7758 non-null object\n",
      "dtypes: float64(21), object(12)\n",
      "memory usage: 2.0+ MB\n"
     ]
    }
   ],
   "source": [
    "df_original.info()"
   ]
  },
  {
   "cell_type": "code",
   "execution_count": 78,
   "metadata": {},
   "outputs": [
    {
     "data": {
      "text/plain": [
       "array(['China', 'Republic of Korea', 'Australia', 'Malaysia',\n",
       "       'Philippines', 'Japan', 'Singapore', 'New Zealand', 'Viet Nam',\n",
       "       'Brunei Darussalam', 'Cambodia', 'Mongolia',\n",
       "       'Lao People’s Democratic Republic', 'Fiji', 'Papua New Guinea',\n",
       "       'Guam', 'French Polynesia', 'New Caledonia', 'Northern Mariana',\n",
       "       'Italy', 'Spain', 'Germany', 'France', 'United Kingdom', 'Turkey',\n",
       "       'Switzerland', 'Belgium', 'Netherlands', 'Austria', 'Portugal',\n",
       "       'Israel', 'Sweden', 'Norway', 'Ireland', 'Czechia',\n",
       "       'Russian Federation', 'Denmark', 'Poland', 'Romania', 'Luxembourg',\n",
       "       'Finland', 'Greece', 'Serbia', 'Iceland', 'Ukraine', 'Croatia',\n",
       "       'Estonia', 'Slovenia', 'Lithuania', 'Armenia', 'Hungary',\n",
       "       'Republic of Moldova', 'Bosnia and Herzegovina', 'Latvia',\n",
       "       'Bulgaria', 'Kazakhstan', 'Slovakia', 'Azerbaijan', 'Andorra',\n",
       "       'North Macedonia', 'Cyprus', 'Albania', 'Belarus', 'San Marino',\n",
       "       'Uzbekistan', 'Malta', 'Montenegro', 'Georgia', 'Kyrgyzstan',\n",
       "       'Liechtenstein', 'Monaco', 'Holy See', 'Faroe Islands', 'Kosovo',\n",
       "       'Jersey', 'Guernsey', 'Isle of Man', 'Gibraltar', 'Greenland',\n",
       "       'India', 'Indonesia', 'Thailand', 'Sri Lanka', 'Bangladesh',\n",
       "       'Myanmar', 'Maldives', 'Nepal', 'Bhutan', 'Timor-Leste',\n",
       "       'Iran (Islamic Republic of)', 'Pakistan', 'Saudi Arabia',\n",
       "       'United Arab Emirates', 'Qatar', 'Egypt', 'Morocco', 'Iraq',\n",
       "       'Bahrain', 'Lebanon', 'Tunisia', 'Kuwait', 'Jordan', 'Oman',\n",
       "       'Afghanistan', 'Djibouti', 'Libya', 'Syrian Arab Republic',\n",
       "       'Sudan', 'Somalia', 'Occupied Palestinian Territory',\n",
       "       'United States of America', 'Canada', 'Brazil', 'Chile', 'Ecuador',\n",
       "       'Mexico', 'Dominican Republic', 'Panama', 'Peru', 'Argentina',\n",
       "       'Colombia', 'Costa Rica', 'Uruguay', 'Cuba', 'Honduras',\n",
       "       'Venezuela (Bolivarian Republic of)',\n",
       "       'Bolivia (Plurinational State of)', 'Trinidad and Tobago',\n",
       "       'Paraguay', 'Guatemala', 'Jamaica', 'El Salvador', 'Barbados',\n",
       "       'Bahamas', 'Guyana', 'Haiti', 'Saint Lucia', 'Dominica', 'Grenada',\n",
       "       'Suriname', 'Saint Kitts and Nevis', 'Antigua and Barbuda',\n",
       "       'Nicaragua', 'Belize', 'Saint Vincent and the Grenadines',\n",
       "       'Puerto Rico', 'Martinique', 'Guadeloupe', 'Aruba',\n",
       "       'French Guiana', 'United States Virgin Islands', 'Bermuda',\n",
       "       'Cayman Islands', 'Sint Maarten', 'Saint Martin', 'Curacao',\n",
       "       'Saint Barthelemy', 'Montserrat', 'Turks and Caicos Islands',\n",
       "       'Anguilla', 'British Virgin Islands',\n",
       "       'Bonaire, Sint Eustatius and Saba', 'South Africa', 'Algeria',\n",
       "       'Burkina Faso', 'Cameroon', 'Senegal', 'Ghana', 'Cote d’Ivoire',\n",
       "       'Nigeria', 'Mauritius', 'Kenya', 'Niger', 'Rwanda', 'Madagascar',\n",
       "       'Guinea', 'Uganda', 'Congo', 'Togo', 'Zambia', 'Mali', 'Ethiopia',\n",
       "       'Gabon', 'Eritrea', 'Equatorial Guinea', 'Guinea-Bissau', 'Benin',\n",
       "       'Namibia', 'Angola', 'Mozambique', 'Seychelles', 'Eswatini',\n",
       "       'Zimbabwe', 'Chad', 'Liberia', 'Mauritania', 'Cabo Verde',\n",
       "       'Botswana', 'Gambia', 'Burundi', 'Malawi', 'Sierra Leone',\n",
       "       'Réunion', 'Mayotte',\n",
       "       'International conveyance (Diamond Princess) (Diamond',\n",
       "       'Lao People’s Democratic Republic Democratic Republic', 'the)',\n",
       "       'Cote d?Ivoire', 'Democratic Republic of the Congo',\n",
       "       'United Republic of Tanzania',\n",
       "       'International conveyance (Diamond Princess)',\n",
       "       'Central African Republic', 'Central African', 'Republic Chad',\n",
       "       'International conveyance (Japan)', 'Republic of Singapore',\n",
       "       'Federal Democratic Republic of Nepal', 'French Republic'],\n",
       "      dtype=object)"
      ]
     },
     "execution_count": 78,
     "metadata": {},
     "output_type": "execute_result"
    }
   ],
   "source": [
    "df_original.reporting_country_territory.unique()"
   ]
  },
  {
   "cell_type": "markdown",
   "metadata": {},
   "source": [
    "## Select the Columns for further investigation"
   ]
  },
  {
   "cell_type": "code",
   "execution_count": 79,
   "metadata": {},
   "outputs": [
    {
     "data": {
      "text/plain": [
       "Index(['reported_date', 'reporting_country_territory', 'province_city',\n",
       "       'confirmed_cases', 'new_confirmed_cases', 'total_deaths',\n",
       "       'new_total_deaths', 'transmission_classification',\n",
       "       'total_cases_with_travel_history_to_china',\n",
       "       'new_cases_with_travel_history_to_china',\n",
       "       'total_cases_with_possible_or_confirmed_transmission_outside_china',\n",
       "       'new_cases_with_possible_or_confirmed_transmission_outside_china',\n",
       "       'total_cases_with_site_of_transmission_under_investigation',\n",
       "       'new_cases_with_site_of_transmission_under_investigation',\n",
       "       'place_of_exposure_in_china_cases',\n",
       "       'place_of_exposure_in_china_cases_new',\n",
       "       'place_of_exposure_outside_reporting_country_and_china_cases',\n",
       "       'place_of_exposure_outside_reporting_country_and_china_cases_new',\n",
       "       'place_of_exposure_in_reporting_country_cases',\n",
       "       'place_of_exposure_in_reporting_country_cases_new', 'suspected_cases',\n",
       "       'daily_suspected_cases', 'daily_lab_confirmed_cases',\n",
       "       'daily_clinically_diagnosed_cases', 'daily_total_cases',\n",
       "       'cumulative_total_cases', 'cumulative_lab_confirmed_cases',\n",
       "       'cumulative_clinically_diagnosed_cases', 'cumulative_deaths',\n",
       "       'days_since_last_reported', 'who_region', 'population', 'report_url'],\n",
       "      dtype='object')"
      ]
     },
     "execution_count": 79,
     "metadata": {},
     "output_type": "execute_result"
    }
   ],
   "source": [
    "df_original.columns"
   ]
  },
  {
   "cell_type": "code",
   "execution_count": 80,
   "metadata": {},
   "outputs": [],
   "source": [
    "df = df_original[['reported_date', 'reporting_country_territory', 'confirmed_cases', 'new_confirmed_cases', 'total_deaths', 'new_total_deaths']]"
   ]
  },
  {
   "cell_type": "code",
   "execution_count": 81,
   "metadata": {
    "scrolled": false
   },
   "outputs": [
    {
     "data": {
      "text/html": [
       "<div>\n",
       "<style scoped>\n",
       "    .dataframe tbody tr th:only-of-type {\n",
       "        vertical-align: middle;\n",
       "    }\n",
       "\n",
       "    .dataframe tbody tr th {\n",
       "        vertical-align: top;\n",
       "    }\n",
       "\n",
       "    .dataframe thead th {\n",
       "        text-align: right;\n",
       "    }\n",
       "</style>\n",
       "<table border=\"1\" class=\"dataframe\">\n",
       "  <thead>\n",
       "    <tr style=\"text-align: right;\">\n",
       "      <th></th>\n",
       "      <th>reported_date</th>\n",
       "      <th>reporting_country_territory</th>\n",
       "      <th>confirmed_cases</th>\n",
       "      <th>new_confirmed_cases</th>\n",
       "      <th>total_deaths</th>\n",
       "      <th>new_total_deaths</th>\n",
       "    </tr>\n",
       "  </thead>\n",
       "  <tbody>\n",
       "    <tr>\n",
       "      <th>0</th>\n",
       "      <td>2020-04-05</td>\n",
       "      <td>China</td>\n",
       "      <td>82875</td>\n",
       "      <td>73.0</td>\n",
       "      <td>3335.0</td>\n",
       "      <td>4.0</td>\n",
       "    </tr>\n",
       "    <tr>\n",
       "      <th>1</th>\n",
       "      <td>2020-04-05</td>\n",
       "      <td>Republic of Korea</td>\n",
       "      <td>10156</td>\n",
       "      <td>94.0</td>\n",
       "      <td>177.0</td>\n",
       "      <td>3.0</td>\n",
       "    </tr>\n",
       "    <tr>\n",
       "      <th>2</th>\n",
       "      <td>2020-04-05</td>\n",
       "      <td>Australia</td>\n",
       "      <td>5454</td>\n",
       "      <td>230.0</td>\n",
       "      <td>28.0</td>\n",
       "      <td>5.0</td>\n",
       "    </tr>\n",
       "    <tr>\n",
       "      <th>3</th>\n",
       "      <td>2020-04-05</td>\n",
       "      <td>Malaysia</td>\n",
       "      <td>3333</td>\n",
       "      <td>217.0</td>\n",
       "      <td>53.0</td>\n",
       "      <td>3.0</td>\n",
       "    </tr>\n",
       "    <tr>\n",
       "      <th>4</th>\n",
       "      <td>2020-04-05</td>\n",
       "      <td>Philippines</td>\n",
       "      <td>3018</td>\n",
       "      <td>385.0</td>\n",
       "      <td>136.0</td>\n",
       "      <td>29.0</td>\n",
       "    </tr>\n",
       "  </tbody>\n",
       "</table>\n",
       "</div>"
      ],
      "text/plain": [
       "  reported_date reporting_country_territory confirmed_cases  \\\n",
       "0    2020-04-05                       China           82875   \n",
       "1    2020-04-05           Republic of Korea           10156   \n",
       "2    2020-04-05                   Australia            5454   \n",
       "3    2020-04-05                    Malaysia            3333   \n",
       "4    2020-04-05                 Philippines            3018   \n",
       "\n",
       "   new_confirmed_cases  total_deaths  new_total_deaths  \n",
       "0                 73.0        3335.0               4.0  \n",
       "1                 94.0         177.0               3.0  \n",
       "2                230.0          28.0               5.0  \n",
       "3                217.0          53.0               3.0  \n",
       "4                385.0         136.0              29.0  "
      ]
     },
     "execution_count": 81,
     "metadata": {},
     "output_type": "execute_result"
    }
   ],
   "source": [
    "df.head()"
   ]
  },
  {
   "cell_type": "code",
   "execution_count": 82,
   "metadata": {
    "scrolled": true
   },
   "outputs": [
    {
     "data": {
      "text/plain": [
       "reported_date                  2020-04-05\n",
       "reporting_country_territory         China\n",
       "confirmed_cases                     82875\n",
       "new_confirmed_cases                    73\n",
       "total_deaths                         3335\n",
       "new_total_deaths                        4\n",
       "Name: 0, dtype: object"
      ]
     },
     "execution_count": 82,
     "metadata": {},
     "output_type": "execute_result"
    }
   ],
   "source": [
    "df.iloc[0]"
   ]
  },
  {
   "cell_type": "code",
   "execution_count": 83,
   "metadata": {
    "scrolled": true
   },
   "outputs": [
    {
     "data": {
      "text/html": [
       "<div>\n",
       "<style scoped>\n",
       "    .dataframe tbody tr th:only-of-type {\n",
       "        vertical-align: middle;\n",
       "    }\n",
       "\n",
       "    .dataframe tbody tr th {\n",
       "        vertical-align: top;\n",
       "    }\n",
       "\n",
       "    .dataframe thead th {\n",
       "        text-align: right;\n",
       "    }\n",
       "</style>\n",
       "<table border=\"1\" class=\"dataframe\">\n",
       "  <thead>\n",
       "    <tr style=\"text-align: right;\">\n",
       "      <th></th>\n",
       "      <th>reported_date</th>\n",
       "      <th>reporting_country_territory</th>\n",
       "      <th>confirmed_cases</th>\n",
       "      <th>new_confirmed_cases</th>\n",
       "      <th>total_deaths</th>\n",
       "      <th>new_total_deaths</th>\n",
       "    </tr>\n",
       "  </thead>\n",
       "  <tbody>\n",
       "    <tr>\n",
       "      <th>0</th>\n",
       "      <td>2020-04-05</td>\n",
       "      <td>China</td>\n",
       "      <td>82875</td>\n",
       "      <td>73.0</td>\n",
       "      <td>3335.0</td>\n",
       "      <td>4.0</td>\n",
       "    </tr>\n",
       "    <tr>\n",
       "      <th>1</th>\n",
       "      <td>2020-04-05</td>\n",
       "      <td>Republic of Korea</td>\n",
       "      <td>10156</td>\n",
       "      <td>94.0</td>\n",
       "      <td>177.0</td>\n",
       "      <td>3.0</td>\n",
       "    </tr>\n",
       "    <tr>\n",
       "      <th>2</th>\n",
       "      <td>2020-04-05</td>\n",
       "      <td>Australia</td>\n",
       "      <td>5454</td>\n",
       "      <td>230.0</td>\n",
       "      <td>28.0</td>\n",
       "      <td>5.0</td>\n",
       "    </tr>\n",
       "  </tbody>\n",
       "</table>\n",
       "</div>"
      ],
      "text/plain": [
       "  reported_date reporting_country_territory confirmed_cases  \\\n",
       "0    2020-04-05                       China           82875   \n",
       "1    2020-04-05           Republic of Korea           10156   \n",
       "2    2020-04-05                   Australia            5454   \n",
       "\n",
       "   new_confirmed_cases  total_deaths  new_total_deaths  \n",
       "0                 73.0        3335.0               4.0  \n",
       "1                 94.0         177.0               3.0  \n",
       "2                230.0          28.0               5.0  "
      ]
     },
     "execution_count": 83,
     "metadata": {},
     "output_type": "execute_result"
    }
   ],
   "source": [
    "df.iloc[0:3]"
   ]
  },
  {
   "cell_type": "markdown",
   "metadata": {},
   "source": [
    "# Data Cleaning"
   ]
  },
  {
   "cell_type": "markdown",
   "metadata": {},
   "source": [
    "## Get UK Stats and reset the index"
   ]
  },
  {
   "cell_type": "code",
   "execution_count": 84,
   "metadata": {
    "scrolled": false
   },
   "outputs": [
    {
     "data": {
      "text/html": [
       "<div>\n",
       "<style scoped>\n",
       "    .dataframe tbody tr th:only-of-type {\n",
       "        vertical-align: middle;\n",
       "    }\n",
       "\n",
       "    .dataframe tbody tr th {\n",
       "        vertical-align: top;\n",
       "    }\n",
       "\n",
       "    .dataframe thead th {\n",
       "        text-align: right;\n",
       "    }\n",
       "</style>\n",
       "<table border=\"1\" class=\"dataframe\">\n",
       "  <thead>\n",
       "    <tr style=\"text-align: right;\">\n",
       "      <th></th>\n",
       "      <th>reported_date</th>\n",
       "      <th>reporting_country_territory</th>\n",
       "      <th>confirmed_cases</th>\n",
       "      <th>new_confirmed_cases</th>\n",
       "      <th>total_deaths</th>\n",
       "      <th>new_total_deaths</th>\n",
       "    </tr>\n",
       "  </thead>\n",
       "  <tbody>\n",
       "    <tr>\n",
       "      <th>0</th>\n",
       "      <td>2020-04-05</td>\n",
       "      <td>United Kingdom</td>\n",
       "      <td>38172</td>\n",
       "      <td>4450.0</td>\n",
       "      <td>3605.0</td>\n",
       "      <td>684.0</td>\n",
       "    </tr>\n",
       "    <tr>\n",
       "      <th>1</th>\n",
       "      <td>2020-04-04</td>\n",
       "      <td>United Kingdom</td>\n",
       "      <td>33722</td>\n",
       "      <td>4244.0</td>\n",
       "      <td>2921.0</td>\n",
       "      <td>389.0</td>\n",
       "    </tr>\n",
       "    <tr>\n",
       "      <th>2</th>\n",
       "      <td>2020-04-03</td>\n",
       "      <td>United Kingdom</td>\n",
       "      <td>294784324</td>\n",
       "      <td>2532.0</td>\n",
       "      <td>743.0</td>\n",
       "      <td>0.0</td>\n",
       "    </tr>\n",
       "    <tr>\n",
       "      <th>3</th>\n",
       "      <td>2020-04-02</td>\n",
       "      <td>United Kingdom</td>\n",
       "      <td>22145</td>\n",
       "      <td>2619.0</td>\n",
       "      <td>1408.0</td>\n",
       "      <td>180.0</td>\n",
       "    </tr>\n",
       "    <tr>\n",
       "      <th>4</th>\n",
       "      <td>2020-04-01</td>\n",
       "      <td>United Kingdom</td>\n",
       "      <td>22145</td>\n",
       "      <td>2619.0</td>\n",
       "      <td>1408.0</td>\n",
       "      <td>180.0</td>\n",
       "    </tr>\n",
       "  </tbody>\n",
       "</table>\n",
       "</div>"
      ],
      "text/plain": [
       "  reported_date reporting_country_territory confirmed_cases  \\\n",
       "0    2020-04-05              United Kingdom           38172   \n",
       "1    2020-04-04              United Kingdom           33722   \n",
       "2    2020-04-03              United Kingdom       294784324   \n",
       "3    2020-04-02              United Kingdom           22145   \n",
       "4    2020-04-01              United Kingdom           22145   \n",
       "\n",
       "   new_confirmed_cases  total_deaths  new_total_deaths  \n",
       "0               4450.0        3605.0             684.0  \n",
       "1               4244.0        2921.0             389.0  \n",
       "2               2532.0         743.0               0.0  \n",
       "3               2619.0        1408.0             180.0  \n",
       "4               2619.0        1408.0             180.0  "
      ]
     },
     "execution_count": 84,
     "metadata": {},
     "output_type": "execute_result"
    }
   ],
   "source": [
    "uk_stats = df[df.reporting_country_territory == 'United Kingdom']\n",
    "uk_stats.reset_index(inplace=True, drop=True)\n",
    "uk_stats.head()"
   ]
  },
  {
   "cell_type": "markdown",
   "metadata": {},
   "source": [
    "### Note - The Dates are not in order. First change the date type to DateTime and can sort by decending order (newest first) easier later"
   ]
  },
  {
   "cell_type": "markdown",
   "metadata": {},
   "source": [
    "## Rectify the Date - Change Data Type from Object to DateTime"
   ]
  },
  {
   "cell_type": "code",
   "execution_count": 85,
   "metadata": {},
   "outputs": [
    {
     "data": {
      "text/plain": [
       "dtype('O')"
      ]
     },
     "execution_count": 85,
     "metadata": {},
     "output_type": "execute_result"
    }
   ],
   "source": [
    "uk_stats.reported_date.dtype"
   ]
  },
  {
   "cell_type": "code",
   "execution_count": 86,
   "metadata": {},
   "outputs": [
    {
     "data": {
      "text/html": [
       "<div>\n",
       "<style scoped>\n",
       "    .dataframe tbody tr th:only-of-type {\n",
       "        vertical-align: middle;\n",
       "    }\n",
       "\n",
       "    .dataframe tbody tr th {\n",
       "        vertical-align: top;\n",
       "    }\n",
       "\n",
       "    .dataframe thead th {\n",
       "        text-align: right;\n",
       "    }\n",
       "</style>\n",
       "<table border=\"1\" class=\"dataframe\">\n",
       "  <thead>\n",
       "    <tr style=\"text-align: right;\">\n",
       "      <th></th>\n",
       "      <th>new_date</th>\n",
       "    </tr>\n",
       "  </thead>\n",
       "  <tbody>\n",
       "    <tr>\n",
       "      <th>0</th>\n",
       "      <td>2020-04-05</td>\n",
       "    </tr>\n",
       "    <tr>\n",
       "      <th>1</th>\n",
       "      <td>2020-04-04</td>\n",
       "    </tr>\n",
       "    <tr>\n",
       "      <th>2</th>\n",
       "      <td>2020-04-03</td>\n",
       "    </tr>\n",
       "    <tr>\n",
       "      <th>3</th>\n",
       "      <td>2020-04-02</td>\n",
       "    </tr>\n",
       "    <tr>\n",
       "      <th>4</th>\n",
       "      <td>2020-04-01</td>\n",
       "    </tr>\n",
       "  </tbody>\n",
       "</table>\n",
       "</div>"
      ],
      "text/plain": [
       "    new_date\n",
       "0 2020-04-05\n",
       "1 2020-04-04\n",
       "2 2020-04-03\n",
       "3 2020-04-02\n",
       "4 2020-04-01"
      ]
     },
     "execution_count": 86,
     "metadata": {},
     "output_type": "execute_result"
    }
   ],
   "source": [
    "temp_df = pd.DataFrame()\n",
    "temp_df['new_date'] = pd.to_datetime(uk_stats['reported_date'], format='%Y-%m-%d')\n",
    "temp_df.head()"
   ]
  },
  {
   "cell_type": "code",
   "execution_count": 87,
   "metadata": {},
   "outputs": [
    {
     "data": {
      "text/plain": [
       "dtype('<M8[ns]')"
      ]
     },
     "execution_count": 87,
     "metadata": {},
     "output_type": "execute_result"
    }
   ],
   "source": [
    "temp_df.new_date.dtype"
   ]
  },
  {
   "cell_type": "markdown",
   "metadata": {},
   "source": [
    "### Concat the new date format column to the uk_stats df and remove the old date column"
   ]
  },
  {
   "cell_type": "code",
   "execution_count": 88,
   "metadata": {
    "scrolled": true
   },
   "outputs": [
    {
     "data": {
      "text/html": [
       "<div>\n",
       "<style scoped>\n",
       "    .dataframe tbody tr th:only-of-type {\n",
       "        vertical-align: middle;\n",
       "    }\n",
       "\n",
       "    .dataframe tbody tr th {\n",
       "        vertical-align: top;\n",
       "    }\n",
       "\n",
       "    .dataframe thead th {\n",
       "        text-align: right;\n",
       "    }\n",
       "</style>\n",
       "<table border=\"1\" class=\"dataframe\">\n",
       "  <thead>\n",
       "    <tr style=\"text-align: right;\">\n",
       "      <th></th>\n",
       "      <th>reported_date</th>\n",
       "      <th>reporting_country_territory</th>\n",
       "      <th>confirmed_cases</th>\n",
       "      <th>new_confirmed_cases</th>\n",
       "      <th>total_deaths</th>\n",
       "      <th>new_total_deaths</th>\n",
       "      <th>new_date</th>\n",
       "    </tr>\n",
       "  </thead>\n",
       "  <tbody>\n",
       "    <tr>\n",
       "      <th>0</th>\n",
       "      <td>2020-04-05</td>\n",
       "      <td>United Kingdom</td>\n",
       "      <td>38172</td>\n",
       "      <td>4450.0</td>\n",
       "      <td>3605.0</td>\n",
       "      <td>684.0</td>\n",
       "      <td>2020-04-05</td>\n",
       "    </tr>\n",
       "    <tr>\n",
       "      <th>1</th>\n",
       "      <td>2020-04-04</td>\n",
       "      <td>United Kingdom</td>\n",
       "      <td>33722</td>\n",
       "      <td>4244.0</td>\n",
       "      <td>2921.0</td>\n",
       "      <td>389.0</td>\n",
       "      <td>2020-04-04</td>\n",
       "    </tr>\n",
       "    <tr>\n",
       "      <th>2</th>\n",
       "      <td>2020-04-03</td>\n",
       "      <td>United Kingdom</td>\n",
       "      <td>294784324</td>\n",
       "      <td>2532.0</td>\n",
       "      <td>743.0</td>\n",
       "      <td>0.0</td>\n",
       "      <td>2020-04-03</td>\n",
       "    </tr>\n",
       "    <tr>\n",
       "      <th>3</th>\n",
       "      <td>2020-04-02</td>\n",
       "      <td>United Kingdom</td>\n",
       "      <td>22145</td>\n",
       "      <td>2619.0</td>\n",
       "      <td>1408.0</td>\n",
       "      <td>180.0</td>\n",
       "      <td>2020-04-02</td>\n",
       "    </tr>\n",
       "    <tr>\n",
       "      <th>4</th>\n",
       "      <td>2020-04-01</td>\n",
       "      <td>United Kingdom</td>\n",
       "      <td>22145</td>\n",
       "      <td>2619.0</td>\n",
       "      <td>1408.0</td>\n",
       "      <td>180.0</td>\n",
       "      <td>2020-04-01</td>\n",
       "    </tr>\n",
       "  </tbody>\n",
       "</table>\n",
       "</div>"
      ],
      "text/plain": [
       "  reported_date reporting_country_territory confirmed_cases  \\\n",
       "0    2020-04-05              United Kingdom           38172   \n",
       "1    2020-04-04              United Kingdom           33722   \n",
       "2    2020-04-03              United Kingdom       294784324   \n",
       "3    2020-04-02              United Kingdom           22145   \n",
       "4    2020-04-01              United Kingdom           22145   \n",
       "\n",
       "   new_confirmed_cases  total_deaths  new_total_deaths   new_date  \n",
       "0               4450.0        3605.0             684.0 2020-04-05  \n",
       "1               4244.0        2921.0             389.0 2020-04-04  \n",
       "2               2532.0         743.0               0.0 2020-04-03  \n",
       "3               2619.0        1408.0             180.0 2020-04-02  \n",
       "4               2619.0        1408.0             180.0 2020-04-01  "
      ]
     },
     "execution_count": 88,
     "metadata": {},
     "output_type": "execute_result"
    }
   ],
   "source": [
    "uk_stats = pd.concat([uk_stats, temp_df], axis=1)\n",
    "uk_stats.head()"
   ]
  },
  {
   "cell_type": "code",
   "execution_count": 89,
   "metadata": {},
   "outputs": [
    {
     "data": {
      "text/html": [
       "<div>\n",
       "<style scoped>\n",
       "    .dataframe tbody tr th:only-of-type {\n",
       "        vertical-align: middle;\n",
       "    }\n",
       "\n",
       "    .dataframe tbody tr th {\n",
       "        vertical-align: top;\n",
       "    }\n",
       "\n",
       "    .dataframe thead th {\n",
       "        text-align: right;\n",
       "    }\n",
       "</style>\n",
       "<table border=\"1\" class=\"dataframe\">\n",
       "  <thead>\n",
       "    <tr style=\"text-align: right;\">\n",
       "      <th></th>\n",
       "      <th>new_date</th>\n",
       "      <th>reporting_country_territory</th>\n",
       "      <th>confirmed_cases</th>\n",
       "      <th>new_confirmed_cases</th>\n",
       "      <th>total_deaths</th>\n",
       "      <th>new_total_deaths</th>\n",
       "    </tr>\n",
       "  </thead>\n",
       "  <tbody>\n",
       "    <tr>\n",
       "      <th>0</th>\n",
       "      <td>2020-04-05</td>\n",
       "      <td>United Kingdom</td>\n",
       "      <td>38172</td>\n",
       "      <td>4450.0</td>\n",
       "      <td>3605.0</td>\n",
       "      <td>684.0</td>\n",
       "    </tr>\n",
       "    <tr>\n",
       "      <th>1</th>\n",
       "      <td>2020-04-04</td>\n",
       "      <td>United Kingdom</td>\n",
       "      <td>33722</td>\n",
       "      <td>4244.0</td>\n",
       "      <td>2921.0</td>\n",
       "      <td>389.0</td>\n",
       "    </tr>\n",
       "    <tr>\n",
       "      <th>2</th>\n",
       "      <td>2020-04-03</td>\n",
       "      <td>United Kingdom</td>\n",
       "      <td>294784324</td>\n",
       "      <td>2532.0</td>\n",
       "      <td>743.0</td>\n",
       "      <td>0.0</td>\n",
       "    </tr>\n",
       "    <tr>\n",
       "      <th>3</th>\n",
       "      <td>2020-04-02</td>\n",
       "      <td>United Kingdom</td>\n",
       "      <td>22145</td>\n",
       "      <td>2619.0</td>\n",
       "      <td>1408.0</td>\n",
       "      <td>180.0</td>\n",
       "    </tr>\n",
       "    <tr>\n",
       "      <th>4</th>\n",
       "      <td>2020-04-01</td>\n",
       "      <td>United Kingdom</td>\n",
       "      <td>22145</td>\n",
       "      <td>2619.0</td>\n",
       "      <td>1408.0</td>\n",
       "      <td>180.0</td>\n",
       "    </tr>\n",
       "  </tbody>\n",
       "</table>\n",
       "</div>"
      ],
      "text/plain": [
       "    new_date reporting_country_territory confirmed_cases  new_confirmed_cases  \\\n",
       "0 2020-04-05              United Kingdom           38172               4450.0   \n",
       "1 2020-04-04              United Kingdom           33722               4244.0   \n",
       "2 2020-04-03              United Kingdom       294784324               2532.0   \n",
       "3 2020-04-02              United Kingdom           22145               2619.0   \n",
       "4 2020-04-01              United Kingdom           22145               2619.0   \n",
       "\n",
       "   total_deaths  new_total_deaths  \n",
       "0        3605.0             684.0  \n",
       "1        2921.0             389.0  \n",
       "2         743.0               0.0  \n",
       "3        1408.0             180.0  \n",
       "4        1408.0             180.0  "
      ]
     },
     "execution_count": 89,
     "metadata": {},
     "output_type": "execute_result"
    }
   ],
   "source": [
    "uk_stats = uk_stats[['new_date','reporting_country_territory', 'confirmed_cases',\n",
    "       'new_confirmed_cases', 'total_deaths', 'new_total_deaths']]\n",
    "\n",
    "uk_stats.head()"
   ]
  },
  {
   "cell_type": "markdown",
   "metadata": {},
   "source": [
    "## Reorganisation of Data"
   ]
  },
  {
   "cell_type": "markdown",
   "metadata": {},
   "source": [
    "### Make each row an observationa and each column an individual variable"
   ]
  },
  {
   "cell_type": "code",
   "execution_count": 90,
   "metadata": {
    "scrolled": false
   },
   "outputs": [
    {
     "data": {
      "text/html": [
       "<div>\n",
       "<style scoped>\n",
       "    .dataframe tbody tr th:only-of-type {\n",
       "        vertical-align: middle;\n",
       "    }\n",
       "\n",
       "    .dataframe tbody tr th {\n",
       "        vertical-align: top;\n",
       "    }\n",
       "\n",
       "    .dataframe thead th {\n",
       "        text-align: right;\n",
       "    }\n",
       "</style>\n",
       "<table border=\"1\" class=\"dataframe\">\n",
       "  <thead>\n",
       "    <tr style=\"text-align: right;\">\n",
       "      <th></th>\n",
       "      <th>new_date</th>\n",
       "      <th>reporting_country_territory</th>\n",
       "      <th>Type_ofCase</th>\n",
       "      <th>Number</th>\n",
       "    </tr>\n",
       "  </thead>\n",
       "  <tbody>\n",
       "    <tr>\n",
       "      <th>0</th>\n",
       "      <td>2020-04-05</td>\n",
       "      <td>United Kingdom</td>\n",
       "      <td>confirmed_cases</td>\n",
       "      <td>38172</td>\n",
       "    </tr>\n",
       "    <tr>\n",
       "      <th>1</th>\n",
       "      <td>2020-04-04</td>\n",
       "      <td>United Kingdom</td>\n",
       "      <td>confirmed_cases</td>\n",
       "      <td>33722</td>\n",
       "    </tr>\n",
       "    <tr>\n",
       "      <th>2</th>\n",
       "      <td>2020-04-03</td>\n",
       "      <td>United Kingdom</td>\n",
       "      <td>confirmed_cases</td>\n",
       "      <td>294784324</td>\n",
       "    </tr>\n",
       "    <tr>\n",
       "      <th>3</th>\n",
       "      <td>2020-04-02</td>\n",
       "      <td>United Kingdom</td>\n",
       "      <td>confirmed_cases</td>\n",
       "      <td>22145</td>\n",
       "    </tr>\n",
       "    <tr>\n",
       "      <th>4</th>\n",
       "      <td>2020-04-01</td>\n",
       "      <td>United Kingdom</td>\n",
       "      <td>confirmed_cases</td>\n",
       "      <td>22145</td>\n",
       "    </tr>\n",
       "  </tbody>\n",
       "</table>\n",
       "</div>"
      ],
      "text/plain": [
       "    new_date reporting_country_territory      Type_ofCase     Number\n",
       "0 2020-04-05              United Kingdom  confirmed_cases      38172\n",
       "1 2020-04-04              United Kingdom  confirmed_cases      33722\n",
       "2 2020-04-03              United Kingdom  confirmed_cases  294784324\n",
       "3 2020-04-02              United Kingdom  confirmed_cases      22145\n",
       "4 2020-04-01              United Kingdom  confirmed_cases      22145"
      ]
     },
     "execution_count": 90,
     "metadata": {},
     "output_type": "execute_result"
    }
   ],
   "source": [
    "df_reorg = pd.melt(frame=uk_stats,\n",
    "             id_vars = ['new_date', 'reporting_country_territory'],\n",
    "             value_vars=['confirmed_cases', 'new_confirmed_cases', 'total_deaths', 'new_total_deaths'],\n",
    "             value_name=\"Number\", var_name=\"Type_ofCase\")\n",
    "df_reorg.head()"
   ]
  },
  {
   "cell_type": "markdown",
   "metadata": {},
   "source": [
    "# Check for NaN values:"
   ]
  },
  {
   "cell_type": "code",
   "execution_count": 91,
   "metadata": {
    "scrolled": true
   },
   "outputs": [
    {
     "data": {
      "text/html": [
       "<div>\n",
       "<style scoped>\n",
       "    .dataframe tbody tr th:only-of-type {\n",
       "        vertical-align: middle;\n",
       "    }\n",
       "\n",
       "    .dataframe tbody tr th {\n",
       "        vertical-align: top;\n",
       "    }\n",
       "\n",
       "    .dataframe thead th {\n",
       "        text-align: right;\n",
       "    }\n",
       "</style>\n",
       "<table border=\"1\" class=\"dataframe\">\n",
       "  <thead>\n",
       "    <tr style=\"text-align: right;\">\n",
       "      <th></th>\n",
       "      <th>new_date</th>\n",
       "      <th>reporting_country_territory</th>\n",
       "      <th>Type_ofCase</th>\n",
       "      <th>Number</th>\n",
       "    </tr>\n",
       "  </thead>\n",
       "  <tbody>\n",
       "    <tr>\n",
       "      <th>123</th>\n",
       "      <td>2020-02-03</td>\n",
       "      <td>United Kingdom</td>\n",
       "      <td>new_confirmed_cases</td>\n",
       "      <td>NaN</td>\n",
       "    </tr>\n",
       "    <tr>\n",
       "      <th>124</th>\n",
       "      <td>2020-02-04</td>\n",
       "      <td>United Kingdom</td>\n",
       "      <td>new_confirmed_cases</td>\n",
       "      <td>NaN</td>\n",
       "    </tr>\n",
       "    <tr>\n",
       "      <th>125</th>\n",
       "      <td>2020-02-05</td>\n",
       "      <td>United Kingdom</td>\n",
       "      <td>new_confirmed_cases</td>\n",
       "      <td>NaN</td>\n",
       "    </tr>\n",
       "    <tr>\n",
       "      <th>126</th>\n",
       "      <td>2020-02-01</td>\n",
       "      <td>United Kingdom</td>\n",
       "      <td>new_confirmed_cases</td>\n",
       "      <td>NaN</td>\n",
       "    </tr>\n",
       "    <tr>\n",
       "      <th>127</th>\n",
       "      <td>2020-02-02</td>\n",
       "      <td>United Kingdom</td>\n",
       "      <td>new_confirmed_cases</td>\n",
       "      <td>NaN</td>\n",
       "    </tr>\n",
       "    <tr>\n",
       "      <th>190</th>\n",
       "      <td>2020-02-01</td>\n",
       "      <td>United Kingdom</td>\n",
       "      <td>total_deaths</td>\n",
       "      <td>NaN</td>\n",
       "    </tr>\n",
       "    <tr>\n",
       "      <th>191</th>\n",
       "      <td>2020-02-02</td>\n",
       "      <td>United Kingdom</td>\n",
       "      <td>total_deaths</td>\n",
       "      <td>NaN</td>\n",
       "    </tr>\n",
       "    <tr>\n",
       "      <th>238</th>\n",
       "      <td>2020-02-06</td>\n",
       "      <td>United Kingdom</td>\n",
       "      <td>new_total_deaths</td>\n",
       "      <td>NaN</td>\n",
       "    </tr>\n",
       "    <tr>\n",
       "      <th>251</th>\n",
       "      <td>2020-02-03</td>\n",
       "      <td>United Kingdom</td>\n",
       "      <td>new_total_deaths</td>\n",
       "      <td>NaN</td>\n",
       "    </tr>\n",
       "    <tr>\n",
       "      <th>252</th>\n",
       "      <td>2020-02-04</td>\n",
       "      <td>United Kingdom</td>\n",
       "      <td>new_total_deaths</td>\n",
       "      <td>NaN</td>\n",
       "    </tr>\n",
       "    <tr>\n",
       "      <th>253</th>\n",
       "      <td>2020-02-05</td>\n",
       "      <td>United Kingdom</td>\n",
       "      <td>new_total_deaths</td>\n",
       "      <td>NaN</td>\n",
       "    </tr>\n",
       "    <tr>\n",
       "      <th>254</th>\n",
       "      <td>2020-02-01</td>\n",
       "      <td>United Kingdom</td>\n",
       "      <td>new_total_deaths</td>\n",
       "      <td>NaN</td>\n",
       "    </tr>\n",
       "    <tr>\n",
       "      <th>255</th>\n",
       "      <td>2020-02-02</td>\n",
       "      <td>United Kingdom</td>\n",
       "      <td>new_total_deaths</td>\n",
       "      <td>NaN</td>\n",
       "    </tr>\n",
       "  </tbody>\n",
       "</table>\n",
       "</div>"
      ],
      "text/plain": [
       "      new_date reporting_country_territory          Type_ofCase Number\n",
       "123 2020-02-03              United Kingdom  new_confirmed_cases    NaN\n",
       "124 2020-02-04              United Kingdom  new_confirmed_cases    NaN\n",
       "125 2020-02-05              United Kingdom  new_confirmed_cases    NaN\n",
       "126 2020-02-01              United Kingdom  new_confirmed_cases    NaN\n",
       "127 2020-02-02              United Kingdom  new_confirmed_cases    NaN\n",
       "190 2020-02-01              United Kingdom         total_deaths    NaN\n",
       "191 2020-02-02              United Kingdom         total_deaths    NaN\n",
       "238 2020-02-06              United Kingdom     new_total_deaths    NaN\n",
       "251 2020-02-03              United Kingdom     new_total_deaths    NaN\n",
       "252 2020-02-04              United Kingdom     new_total_deaths    NaN\n",
       "253 2020-02-05              United Kingdom     new_total_deaths    NaN\n",
       "254 2020-02-01              United Kingdom     new_total_deaths    NaN\n",
       "255 2020-02-02              United Kingdom     new_total_deaths    NaN"
      ]
     },
     "execution_count": 91,
     "metadata": {},
     "output_type": "execute_result"
    }
   ],
   "source": [
    "is_NaN = df_reorg.isnull()\n",
    "row_has_NaN = is_NaN.any(axis=1)\n",
    "rows_with_NaN = df_reorg[row_has_NaN]\n",
    "rows_with_NaN"
   ]
  },
  {
   "cell_type": "markdown",
   "metadata": {},
   "source": [
    "## Drop the suspected error number in index 2 of df_reorg"
   ]
  },
  {
   "cell_type": "code",
   "execution_count": 92,
   "metadata": {},
   "outputs": [
    {
     "data": {
      "text/html": [
       "<div>\n",
       "<style scoped>\n",
       "    .dataframe tbody tr th:only-of-type {\n",
       "        vertical-align: middle;\n",
       "    }\n",
       "\n",
       "    .dataframe tbody tr th {\n",
       "        vertical-align: top;\n",
       "    }\n",
       "\n",
       "    .dataframe thead th {\n",
       "        text-align: right;\n",
       "    }\n",
       "</style>\n",
       "<table border=\"1\" class=\"dataframe\">\n",
       "  <thead>\n",
       "    <tr style=\"text-align: right;\">\n",
       "      <th></th>\n",
       "      <th>new_date</th>\n",
       "      <th>reporting_country_territory</th>\n",
       "      <th>Type_ofCase</th>\n",
       "      <th>Number</th>\n",
       "    </tr>\n",
       "  </thead>\n",
       "  <tbody>\n",
       "    <tr>\n",
       "      <th>0</th>\n",
       "      <td>2020-04-05</td>\n",
       "      <td>United Kingdom</td>\n",
       "      <td>confirmed_cases</td>\n",
       "      <td>38172</td>\n",
       "    </tr>\n",
       "    <tr>\n",
       "      <th>1</th>\n",
       "      <td>2020-04-04</td>\n",
       "      <td>United Kingdom</td>\n",
       "      <td>confirmed_cases</td>\n",
       "      <td>33722</td>\n",
       "    </tr>\n",
       "    <tr>\n",
       "      <th>2</th>\n",
       "      <td>2020-04-02</td>\n",
       "      <td>United Kingdom</td>\n",
       "      <td>confirmed_cases</td>\n",
       "      <td>22145</td>\n",
       "    </tr>\n",
       "    <tr>\n",
       "      <th>3</th>\n",
       "      <td>2020-04-01</td>\n",
       "      <td>United Kingdom</td>\n",
       "      <td>confirmed_cases</td>\n",
       "      <td>22145</td>\n",
       "    </tr>\n",
       "    <tr>\n",
       "      <th>4</th>\n",
       "      <td>2020-03-31</td>\n",
       "      <td>United Kingdom</td>\n",
       "      <td>confirmed_cases</td>\n",
       "      <td>19526</td>\n",
       "    </tr>\n",
       "  </tbody>\n",
       "</table>\n",
       "</div>"
      ],
      "text/plain": [
       "    new_date reporting_country_territory      Type_ofCase Number\n",
       "0 2020-04-05              United Kingdom  confirmed_cases  38172\n",
       "1 2020-04-04              United Kingdom  confirmed_cases  33722\n",
       "2 2020-04-02              United Kingdom  confirmed_cases  22145\n",
       "3 2020-04-01              United Kingdom  confirmed_cases  22145\n",
       "4 2020-03-31              United Kingdom  confirmed_cases  19526"
      ]
     },
     "execution_count": 92,
     "metadata": {},
     "output_type": "execute_result"
    }
   ],
   "source": [
    "df_reorg = df_reorg.drop(df_reorg.index[[2]])\n",
    "df_reorg.reset_index(drop=True, inplace=True)\n",
    "df_reorg.head()"
   ]
  },
  {
   "cell_type": "markdown",
   "metadata": {},
   "source": [
    "## The NaN values can be assumed as 0 as it was at the beggining of the outbreak and there were no cases in the UK at that time"
   ]
  },
  {
   "cell_type": "markdown",
   "metadata": {},
   "source": [
    "### Replace NaN with 0"
   ]
  },
  {
   "cell_type": "code",
   "execution_count": 93,
   "metadata": {},
   "outputs": [],
   "source": [
    "df_reorg.Number = df_reorg.Number.fillna(value=0)"
   ]
  },
  {
   "cell_type": "markdown",
   "metadata": {},
   "source": [
    "## Make the Number column numeric instead of an object"
   ]
  },
  {
   "cell_type": "code",
   "execution_count": 94,
   "metadata": {},
   "outputs": [
    {
     "data": {
      "text/plain": [
       "dtype('float64')"
      ]
     },
     "execution_count": 94,
     "metadata": {},
     "output_type": "execute_result"
    }
   ],
   "source": [
    "df_reorg.Number = pd.to_numeric(df_reorg.Number)\n",
    "df_reorg.Number.dtype"
   ]
  },
  {
   "cell_type": "markdown",
   "metadata": {},
   "source": [
    "## Start of Data Extraction"
   ]
  },
  {
   "cell_type": "markdown",
   "metadata": {},
   "source": [
    "### Function to parse the required data\n",
    "#### Note - The Dates were not sorted and need sorting into decending (newest first) order"
   ]
  },
  {
   "cell_type": "code",
   "execution_count": 95,
   "metadata": {},
   "outputs": [],
   "source": [
    "def get_country_info(country, type_of_case):\n",
    "    df = df_reorg[(df_reorg.reporting_country_territory == country) & (df_reorg.Type_ofCase == type_of_case )]\n",
    "    df.reset_index(drop=True, inplace=True)\n",
    "    \n",
    "    df_sorted = df.sort_values(by=['new_date'], ascending=False)\n",
    "    df_sorted.reset_index(drop=True, inplace=True)\n",
    "    return df_sorted"
   ]
  },
  {
   "cell_type": "markdown",
   "metadata": {},
   "source": [
    "### UK Confirmed Cases 2 Feb - 5 Apr 2020"
   ]
  },
  {
   "cell_type": "code",
   "execution_count": 96,
   "metadata": {
    "scrolled": true
   },
   "outputs": [
    {
     "data": {
      "text/html": [
       "<div>\n",
       "<style scoped>\n",
       "    .dataframe tbody tr th:only-of-type {\n",
       "        vertical-align: middle;\n",
       "    }\n",
       "\n",
       "    .dataframe tbody tr th {\n",
       "        vertical-align: top;\n",
       "    }\n",
       "\n",
       "    .dataframe thead th {\n",
       "        text-align: right;\n",
       "    }\n",
       "</style>\n",
       "<table border=\"1\" class=\"dataframe\">\n",
       "  <thead>\n",
       "    <tr style=\"text-align: right;\">\n",
       "      <th></th>\n",
       "      <th>new_date</th>\n",
       "      <th>reporting_country_territory</th>\n",
       "      <th>Type_ofCase</th>\n",
       "      <th>Number</th>\n",
       "    </tr>\n",
       "  </thead>\n",
       "  <tbody>\n",
       "    <tr>\n",
       "      <th>0</th>\n",
       "      <td>2020-04-05</td>\n",
       "      <td>United Kingdom</td>\n",
       "      <td>confirmed_cases</td>\n",
       "      <td>38172.0</td>\n",
       "    </tr>\n",
       "    <tr>\n",
       "      <th>1</th>\n",
       "      <td>2020-04-04</td>\n",
       "      <td>United Kingdom</td>\n",
       "      <td>confirmed_cases</td>\n",
       "      <td>33722.0</td>\n",
       "    </tr>\n",
       "    <tr>\n",
       "      <th>2</th>\n",
       "      <td>2020-04-02</td>\n",
       "      <td>United Kingdom</td>\n",
       "      <td>confirmed_cases</td>\n",
       "      <td>22145.0</td>\n",
       "    </tr>\n",
       "    <tr>\n",
       "      <th>3</th>\n",
       "      <td>2020-04-01</td>\n",
       "      <td>United Kingdom</td>\n",
       "      <td>confirmed_cases</td>\n",
       "      <td>22145.0</td>\n",
       "    </tr>\n",
       "    <tr>\n",
       "      <th>4</th>\n",
       "      <td>2020-03-31</td>\n",
       "      <td>United Kingdom</td>\n",
       "      <td>confirmed_cases</td>\n",
       "      <td>19526.0</td>\n",
       "    </tr>\n",
       "  </tbody>\n",
       "</table>\n",
       "</div>"
      ],
      "text/plain": [
       "    new_date reporting_country_territory      Type_ofCase   Number\n",
       "0 2020-04-05              United Kingdom  confirmed_cases  38172.0\n",
       "1 2020-04-04              United Kingdom  confirmed_cases  33722.0\n",
       "2 2020-04-02              United Kingdom  confirmed_cases  22145.0\n",
       "3 2020-04-01              United Kingdom  confirmed_cases  22145.0\n",
       "4 2020-03-31              United Kingdom  confirmed_cases  19526.0"
      ]
     },
     "execution_count": 96,
     "metadata": {},
     "output_type": "execute_result"
    }
   ],
   "source": [
    "uk_confirmed = get_country_info('United Kingdom', 'confirmed_cases')\n",
    "uk_confirmed.head()"
   ]
  },
  {
   "cell_type": "markdown",
   "metadata": {},
   "source": [
    "### UK Newly Confirmed Cases 2 Feb - 5 Apr 2020"
   ]
  },
  {
   "cell_type": "code",
   "execution_count": 97,
   "metadata": {
    "scrolled": false
   },
   "outputs": [
    {
     "data": {
      "text/html": [
       "<div>\n",
       "<style scoped>\n",
       "    .dataframe tbody tr th:only-of-type {\n",
       "        vertical-align: middle;\n",
       "    }\n",
       "\n",
       "    .dataframe tbody tr th {\n",
       "        vertical-align: top;\n",
       "    }\n",
       "\n",
       "    .dataframe thead th {\n",
       "        text-align: right;\n",
       "    }\n",
       "</style>\n",
       "<table border=\"1\" class=\"dataframe\">\n",
       "  <thead>\n",
       "    <tr style=\"text-align: right;\">\n",
       "      <th></th>\n",
       "      <th>new_date</th>\n",
       "      <th>reporting_country_territory</th>\n",
       "      <th>Type_ofCase</th>\n",
       "      <th>Number</th>\n",
       "    </tr>\n",
       "  </thead>\n",
       "  <tbody>\n",
       "    <tr>\n",
       "      <th>0</th>\n",
       "      <td>2020-04-05</td>\n",
       "      <td>United Kingdom</td>\n",
       "      <td>new_confirmed_cases</td>\n",
       "      <td>4450.0</td>\n",
       "    </tr>\n",
       "    <tr>\n",
       "      <th>1</th>\n",
       "      <td>2020-04-04</td>\n",
       "      <td>United Kingdom</td>\n",
       "      <td>new_confirmed_cases</td>\n",
       "      <td>4244.0</td>\n",
       "    </tr>\n",
       "    <tr>\n",
       "      <th>2</th>\n",
       "      <td>2020-04-03</td>\n",
       "      <td>United Kingdom</td>\n",
       "      <td>new_confirmed_cases</td>\n",
       "      <td>2532.0</td>\n",
       "    </tr>\n",
       "    <tr>\n",
       "      <th>3</th>\n",
       "      <td>2020-04-02</td>\n",
       "      <td>United Kingdom</td>\n",
       "      <td>new_confirmed_cases</td>\n",
       "      <td>2619.0</td>\n",
       "    </tr>\n",
       "    <tr>\n",
       "      <th>4</th>\n",
       "      <td>2020-04-01</td>\n",
       "      <td>United Kingdom</td>\n",
       "      <td>new_confirmed_cases</td>\n",
       "      <td>2619.0</td>\n",
       "    </tr>\n",
       "  </tbody>\n",
       "</table>\n",
       "</div>"
      ],
      "text/plain": [
       "    new_date reporting_country_territory          Type_ofCase  Number\n",
       "0 2020-04-05              United Kingdom  new_confirmed_cases  4450.0\n",
       "1 2020-04-04              United Kingdom  new_confirmed_cases  4244.0\n",
       "2 2020-04-03              United Kingdom  new_confirmed_cases  2532.0\n",
       "3 2020-04-02              United Kingdom  new_confirmed_cases  2619.0\n",
       "4 2020-04-01              United Kingdom  new_confirmed_cases  2619.0"
      ]
     },
     "execution_count": 97,
     "metadata": {},
     "output_type": "execute_result"
    }
   ],
   "source": [
    "uk_new_confirmed = get_country_info('United Kingdom', 'new_confirmed_cases')\n",
    "uk_new_confirmed.head()"
   ]
  },
  {
   "cell_type": "markdown",
   "metadata": {},
   "source": [
    "### UK Total Deaths 2 Feb - 5 Apr 2020"
   ]
  },
  {
   "cell_type": "code",
   "execution_count": 99,
   "metadata": {
    "scrolled": true
   },
   "outputs": [
    {
     "data": {
      "text/html": [
       "<div>\n",
       "<style scoped>\n",
       "    .dataframe tbody tr th:only-of-type {\n",
       "        vertical-align: middle;\n",
       "    }\n",
       "\n",
       "    .dataframe tbody tr th {\n",
       "        vertical-align: top;\n",
       "    }\n",
       "\n",
       "    .dataframe thead th {\n",
       "        text-align: right;\n",
       "    }\n",
       "</style>\n",
       "<table border=\"1\" class=\"dataframe\">\n",
       "  <thead>\n",
       "    <tr style=\"text-align: right;\">\n",
       "      <th></th>\n",
       "      <th>new_date</th>\n",
       "      <th>reporting_country_territory</th>\n",
       "      <th>Type_ofCase</th>\n",
       "      <th>Number</th>\n",
       "    </tr>\n",
       "  </thead>\n",
       "  <tbody>\n",
       "    <tr>\n",
       "      <th>0</th>\n",
       "      <td>2020-04-05</td>\n",
       "      <td>United Kingdom</td>\n",
       "      <td>total_deaths</td>\n",
       "      <td>3605.0</td>\n",
       "    </tr>\n",
       "    <tr>\n",
       "      <th>1</th>\n",
       "      <td>2020-04-04</td>\n",
       "      <td>United Kingdom</td>\n",
       "      <td>total_deaths</td>\n",
       "      <td>2921.0</td>\n",
       "    </tr>\n",
       "    <tr>\n",
       "      <th>2</th>\n",
       "      <td>2020-04-03</td>\n",
       "      <td>United Kingdom</td>\n",
       "      <td>total_deaths</td>\n",
       "      <td>743.0</td>\n",
       "    </tr>\n",
       "    <tr>\n",
       "      <th>3</th>\n",
       "      <td>2020-04-02</td>\n",
       "      <td>United Kingdom</td>\n",
       "      <td>total_deaths</td>\n",
       "      <td>1408.0</td>\n",
       "    </tr>\n",
       "    <tr>\n",
       "      <th>4</th>\n",
       "      <td>2020-04-01</td>\n",
       "      <td>United Kingdom</td>\n",
       "      <td>total_deaths</td>\n",
       "      <td>1408.0</td>\n",
       "    </tr>\n",
       "  </tbody>\n",
       "</table>\n",
       "</div>"
      ],
      "text/plain": [
       "    new_date reporting_country_territory   Type_ofCase  Number\n",
       "0 2020-04-05              United Kingdom  total_deaths  3605.0\n",
       "1 2020-04-04              United Kingdom  total_deaths  2921.0\n",
       "2 2020-04-03              United Kingdom  total_deaths   743.0\n",
       "3 2020-04-02              United Kingdom  total_deaths  1408.0\n",
       "4 2020-04-01              United Kingdom  total_deaths  1408.0"
      ]
     },
     "execution_count": 99,
     "metadata": {},
     "output_type": "execute_result"
    }
   ],
   "source": [
    "uk_total_deaths = get_country_info('United Kingdom', 'total_deaths')\n",
    "uk_total_deaths.head()"
   ]
  },
  {
   "cell_type": "markdown",
   "metadata": {},
   "source": [
    "### UK New Total Deaths per Day  2 Feb - 5 Apr 2020"
   ]
  },
  {
   "cell_type": "code",
   "execution_count": 98,
   "metadata": {
    "scrolled": false
   },
   "outputs": [
    {
     "data": {
      "text/html": [
       "<div>\n",
       "<style scoped>\n",
       "    .dataframe tbody tr th:only-of-type {\n",
       "        vertical-align: middle;\n",
       "    }\n",
       "\n",
       "    .dataframe tbody tr th {\n",
       "        vertical-align: top;\n",
       "    }\n",
       "\n",
       "    .dataframe thead th {\n",
       "        text-align: right;\n",
       "    }\n",
       "</style>\n",
       "<table border=\"1\" class=\"dataframe\">\n",
       "  <thead>\n",
       "    <tr style=\"text-align: right;\">\n",
       "      <th></th>\n",
       "      <th>new_date</th>\n",
       "      <th>reporting_country_territory</th>\n",
       "      <th>Type_ofCase</th>\n",
       "      <th>Number</th>\n",
       "    </tr>\n",
       "  </thead>\n",
       "  <tbody>\n",
       "    <tr>\n",
       "      <th>0</th>\n",
       "      <td>2020-04-05</td>\n",
       "      <td>United Kingdom</td>\n",
       "      <td>new_total_deaths</td>\n",
       "      <td>684.0</td>\n",
       "    </tr>\n",
       "    <tr>\n",
       "      <th>1</th>\n",
       "      <td>2020-04-04</td>\n",
       "      <td>United Kingdom</td>\n",
       "      <td>new_total_deaths</td>\n",
       "      <td>389.0</td>\n",
       "    </tr>\n",
       "    <tr>\n",
       "      <th>2</th>\n",
       "      <td>2020-04-03</td>\n",
       "      <td>United Kingdom</td>\n",
       "      <td>new_total_deaths</td>\n",
       "      <td>0.0</td>\n",
       "    </tr>\n",
       "    <tr>\n",
       "      <th>3</th>\n",
       "      <td>2020-04-02</td>\n",
       "      <td>United Kingdom</td>\n",
       "      <td>new_total_deaths</td>\n",
       "      <td>180.0</td>\n",
       "    </tr>\n",
       "    <tr>\n",
       "      <th>4</th>\n",
       "      <td>2020-04-01</td>\n",
       "      <td>United Kingdom</td>\n",
       "      <td>new_total_deaths</td>\n",
       "      <td>180.0</td>\n",
       "    </tr>\n",
       "  </tbody>\n",
       "</table>\n",
       "</div>"
      ],
      "text/plain": [
       "    new_date reporting_country_territory       Type_ofCase  Number\n",
       "0 2020-04-05              United Kingdom  new_total_deaths   684.0\n",
       "1 2020-04-04              United Kingdom  new_total_deaths   389.0\n",
       "2 2020-04-03              United Kingdom  new_total_deaths     0.0\n",
       "3 2020-04-02              United Kingdom  new_total_deaths   180.0\n",
       "4 2020-04-01              United Kingdom  new_total_deaths   180.0"
      ]
     },
     "execution_count": 98,
     "metadata": {},
     "output_type": "execute_result"
    }
   ],
   "source": [
    "uk_new_total_deaths = get_country_info('United Kingdom', 'new_total_deaths')\n",
    "uk_new_total_deaths.head()"
   ]
  },
  {
   "cell_type": "markdown",
   "metadata": {},
   "source": [
    "## Graph plotting the results"
   ]
  },
  {
   "cell_type": "code",
   "execution_count": 185,
   "metadata": {
    "scrolled": false
   },
   "outputs": [
    {
     "data": {
      "image/png": "[encoded data removed]",
      "text/plain": [
       "<Figure size 864x432 with 1 Axes>"
      ]
     },
     "metadata": {
      "needs_background": "light"
     },
     "output_type": "display_data"
    }
   ],
   "source": [
    "plt.figure(figsize=(12,6))\n",
    "plt.plot(uk_confirmed.new_date, uk_confirmed.Number, 'r.-', label='Confirmed Cases')\n",
    "plt.plot(uk_new_confirmed.new_date, uk_new_confirmed.Number, '.-', color='orange', label='New Confirmed Cases')\n",
    "plt.plot(uk_total_deaths.new_date, uk_total_deaths.Number, 'k.-', label='Total Deaths')\n",
    "plt.plot(uk_new_total_deaths.new_date, uk_new_total_deaths.Number, '.-', color='grey', label='New Total Deaths')\n",
    "plt.tight_layout()\n",
    "plt.xticks(uk_confirmed.new_date[::7],rotation='vertical')\n",
    "plt.title('UK COVID-19 Cases and Deaths per Day from 2 Feb - 5 April 2020')\n",
    "plt.xlabel('Date')\n",
    "plt.ylabel('Number of People')\n",
    "plt.annotate(uk_confirmed.Number[0], (uk_confirmed.new_date[0], uk_confirmed.Number[0]), textcoords=\"offset points\", xytext=(-30,-10), ha=('center'))\n",
    "plt.annotate(uk_new_confirmed.Number[0], (uk_new_confirmed.new_date[0], uk_new_confirmed.Number[0]), textcoords=\"offset points\", xytext=(0,10), ha=('center'))\n",
    "plt.annotate(uk_total_deaths.Number[0], (uk_total_deaths.new_date[0], uk_total_deaths.Number[0]), textcoords=\"offset points\", xytext=(19,-10), ha=('center'))\n",
    "plt.annotate(uk_new_total_deaths.Number[0], (uk_new_total_deaths.new_date[0], uk_new_total_deaths.Number[0]), textcoords=\"offset points\", xytext=(19,-10), ha=('center'))\n",
    "plt.legend()\n",
    "plt.show()"
   ]
  }
 ],
 "metadata": {
  "kernelspec": {
   "display_name": "Python 3",
   "language": "python",
   "name": "python3"
  },
  "language_info": {
   "codemirror_mode": {
    "name": "ipython",
    "version": 3
   },
   "file_extension": ".py",
   "mimetype": "text/x-python",
   "name": "python",
   "nbconvert_exporter": "python",
   "pygments_lexer": "ipython3",
   "version": "3.7.3"
  }
 },
 "nbformat": 4,
 "nbformat_minor": 2
}
